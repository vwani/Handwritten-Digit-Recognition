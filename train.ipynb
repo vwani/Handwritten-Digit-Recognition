{
 "cells": [
  {
   "cell_type": "code",
   "execution_count": 1,
   "id": "da764fe0-1b57-458b-a21b-7b9b9123ff80",
   "metadata": {},
   "outputs": [],
   "source": [
    "from torchvision import datasets\n",
    "from torchvision.transforms import ToTensor"
   ]
  },
  {
   "cell_type": "code",
   "execution_count": 16,
   "id": "090019bb-5b1d-4d30-ad40-315c47be6e3d",
   "metadata": {},
   "outputs": [],
   "source": [
    "from torch.utils.data import DataLoader"
   ]
  },
  {
   "cell_type": "code",
   "execution_count": 20,
   "id": "0510c8c7-4632-4f2d-99ba-b2b59e6ca21f",
   "metadata": {},
   "outputs": [],
   "source": [
    "import torch.nn as nn\n",
    "import torch.nn.functional as F\n",
    "import torch.optim as optim"
   ]
  },
  {
   "cell_type": "code",
   "execution_count": 22,
   "id": "783ca906-15c4-44bf-ae99-3ebc6a067d02",
   "metadata": {},
   "outputs": [],
   "source": [
    "import torch"
   ]
  },
  {
   "cell_type": "code",
   "execution_count": 27,
   "id": "161a3f43-2089-4764-b0c3-82e85126ab40",
   "metadata": {},
   "outputs": [],
   "source": [
    "import matplotlib.pyplot as plt"
   ]
  },
  {
   "cell_type": "code",
   "execution_count": 7,
   "id": "2457e93b-e07c-41db-befd-8d5126c4f721",
   "metadata": {},
   "outputs": [],
   "source": [
    "train_data = datasets.MNIST(\n",
    "    root = 'data',\n",
    "    train = True,\n",
    "    transform = ToTensor(),\n",
    "    download = True\n",
    ")"
   ]
  },
  {
   "cell_type": "code",
   "execution_count": 8,
   "id": "fd2ac7fe-1fc2-4ff2-a9fb-178304c68c97",
   "metadata": {},
   "outputs": [],
   "source": [
    "test_data = datasets.MNIST(\n",
    "    root = 'data',\n",
    "    train = False,\n",
    "    transform = ToTensor(),\n",
    "    download = True\n",
    ")"
   ]
  },
  {
   "cell_type": "code",
   "execution_count": 9,
   "id": "e881ce44-28be-41f9-9373-d05d50ab0438",
   "metadata": {},
   "outputs": [
    {
     "data": {
      "text/plain": [
       "Dataset MNIST\n",
       "    Number of datapoints: 60000\n",
       "    Root location: data\n",
       "    Split: Train\n",
       "    StandardTransform\n",
       "Transform: ToTensor()"
      ]
     },
     "execution_count": 9,
     "metadata": {},
     "output_type": "execute_result"
    }
   ],
   "source": [
    "train_data"
   ]
  },
  {
   "cell_type": "code",
   "execution_count": 10,
   "id": "9fb5f848-ac43-42a7-96e6-45025dc56f98",
   "metadata": {},
   "outputs": [
    {
     "data": {
      "text/plain": [
       "Dataset MNIST\n",
       "    Number of datapoints: 10000\n",
       "    Root location: data\n",
       "    Split: Test\n",
       "    StandardTransform\n",
       "Transform: ToTensor()"
      ]
     },
     "execution_count": 10,
     "metadata": {},
     "output_type": "execute_result"
    }
   ],
   "source": [
    "test_data"
   ]
  },
  {
   "cell_type": "code",
   "execution_count": 11,
   "id": "c0aa6a2b-eb9f-4b95-bfa0-2724d2d4584a",
   "metadata": {},
   "outputs": [
    {
     "data": {
      "text/plain": [
       "tensor([[[0, 0, 0,  ..., 0, 0, 0],\n",
       "         [0, 0, 0,  ..., 0, 0, 0],\n",
       "         [0, 0, 0,  ..., 0, 0, 0],\n",
       "         ...,\n",
       "         [0, 0, 0,  ..., 0, 0, 0],\n",
       "         [0, 0, 0,  ..., 0, 0, 0],\n",
       "         [0, 0, 0,  ..., 0, 0, 0]],\n",
       "\n",
       "        [[0, 0, 0,  ..., 0, 0, 0],\n",
       "         [0, 0, 0,  ..., 0, 0, 0],\n",
       "         [0, 0, 0,  ..., 0, 0, 0],\n",
       "         ...,\n",
       "         [0, 0, 0,  ..., 0, 0, 0],\n",
       "         [0, 0, 0,  ..., 0, 0, 0],\n",
       "         [0, 0, 0,  ..., 0, 0, 0]],\n",
       "\n",
       "        [[0, 0, 0,  ..., 0, 0, 0],\n",
       "         [0, 0, 0,  ..., 0, 0, 0],\n",
       "         [0, 0, 0,  ..., 0, 0, 0],\n",
       "         ...,\n",
       "         [0, 0, 0,  ..., 0, 0, 0],\n",
       "         [0, 0, 0,  ..., 0, 0, 0],\n",
       "         [0, 0, 0,  ..., 0, 0, 0]],\n",
       "\n",
       "        ...,\n",
       "\n",
       "        [[0, 0, 0,  ..., 0, 0, 0],\n",
       "         [0, 0, 0,  ..., 0, 0, 0],\n",
       "         [0, 0, 0,  ..., 0, 0, 0],\n",
       "         ...,\n",
       "         [0, 0, 0,  ..., 0, 0, 0],\n",
       "         [0, 0, 0,  ..., 0, 0, 0],\n",
       "         [0, 0, 0,  ..., 0, 0, 0]],\n",
       "\n",
       "        [[0, 0, 0,  ..., 0, 0, 0],\n",
       "         [0, 0, 0,  ..., 0, 0, 0],\n",
       "         [0, 0, 0,  ..., 0, 0, 0],\n",
       "         ...,\n",
       "         [0, 0, 0,  ..., 0, 0, 0],\n",
       "         [0, 0, 0,  ..., 0, 0, 0],\n",
       "         [0, 0, 0,  ..., 0, 0, 0]],\n",
       "\n",
       "        [[0, 0, 0,  ..., 0, 0, 0],\n",
       "         [0, 0, 0,  ..., 0, 0, 0],\n",
       "         [0, 0, 0,  ..., 0, 0, 0],\n",
       "         ...,\n",
       "         [0, 0, 0,  ..., 0, 0, 0],\n",
       "         [0, 0, 0,  ..., 0, 0, 0],\n",
       "         [0, 0, 0,  ..., 0, 0, 0]]], dtype=torch.uint8)"
      ]
     },
     "execution_count": 11,
     "metadata": {},
     "output_type": "execute_result"
    }
   ],
   "source": [
    "train_data.data"
   ]
  },
  {
   "cell_type": "code",
   "execution_count": 12,
   "id": "aeae95c2-9c9f-4d62-b63b-9b7a04763761",
   "metadata": {},
   "outputs": [
    {
     "data": {
      "text/plain": [
       "torch.Size([60000, 28, 28])"
      ]
     },
     "execution_count": 12,
     "metadata": {},
     "output_type": "execute_result"
    }
   ],
   "source": [
    "train_data.data.shape"
   ]
  },
  {
   "cell_type": "code",
   "execution_count": 13,
   "id": "5515b94a-5688-44ff-b791-4f525e3ece68",
   "metadata": {},
   "outputs": [
    {
     "data": {
      "text/plain": [
       "torch.Size([10000, 28, 28])"
      ]
     },
     "execution_count": 13,
     "metadata": {},
     "output_type": "execute_result"
    }
   ],
   "source": [
    "test_data.data.shape"
   ]
  },
  {
   "cell_type": "code",
   "execution_count": 14,
   "id": "29eb9b4b-36bc-45a1-93a3-42390e3c0e09",
   "metadata": {},
   "outputs": [
    {
     "data": {
      "text/plain": [
       "tensor([5, 0, 4,  ..., 5, 6, 8])"
      ]
     },
     "execution_count": 14,
     "metadata": {},
     "output_type": "execute_result"
    }
   ],
   "source": [
    "train_data.targets"
   ]
  },
  {
   "cell_type": "code",
   "execution_count": 15,
   "id": "65db4575-7231-4127-bbb1-80ef08e955a4",
   "metadata": {},
   "outputs": [
    {
     "data": {
      "text/plain": [
       "torch.Size([60000])"
      ]
     },
     "execution_count": 15,
     "metadata": {},
     "output_type": "execute_result"
    }
   ],
   "source": [
    "train_data.targets.size()"
   ]
  },
  {
   "cell_type": "code",
   "execution_count": 17,
   "id": "ca8f9ecd-84f5-414f-b796-1e0ae22eaf57",
   "metadata": {},
   "outputs": [],
   "source": [
    "loaders = {\n",
    "    'train': DataLoader(train_data, \n",
    "                        batch_size=100, \n",
    "                        shuffle=True,\n",
    "                        num_workers=1),\n",
    "    'test': DataLoader(test_data,\n",
    "                       batch_size=100,\n",
    "                       shuffle=True,\n",
    "                       num_workers=1),    \n",
    "}"
   ]
  },
  {
   "cell_type": "code",
   "execution_count": 18,
   "id": "46bca20c-4395-4422-8f1c-696c1b729588",
   "metadata": {},
   "outputs": [
    {
     "data": {
      "text/plain": [
       "{'train': <torch.utils.data.dataloader.DataLoader at 0x15acd3eb0e0>,\n",
       " 'test': <torch.utils.data.dataloader.DataLoader at 0x15acd32b110>}"
      ]
     },
     "execution_count": 18,
     "metadata": {},
     "output_type": "execute_result"
    }
   ],
   "source": [
    "loaders"
   ]
  },
  {
   "cell_type": "code",
   "execution_count": 19,
   "id": "5ceeb585-fe2d-4d84-8680-9f8755796ef9",
   "metadata": {},
   "outputs": [
    {
     "data": {
      "text/plain": [
       "<torch.utils.data.dataloader.DataLoader at 0x15acd3eb0e0>"
      ]
     },
     "execution_count": 19,
     "metadata": {},
     "output_type": "execute_result"
    }
   ],
   "source": [
    "loaders['train']"
   ]
  },
  {
   "cell_type": "code",
   "execution_count": 35,
   "id": "330d3416-24f9-4233-bede-c1ee533fd998",
   "metadata": {},
   "outputs": [],
   "source": [
    "class CNN(nn.Module):\n",
    "\n",
    "    def __init__(self):\n",
    "        super(CNN, self).__init__()\n",
    "        self.conv1 = nn.Conv2d(1, 10, kernel_size=5)\n",
    "        self.conv2 = nn.Conv2d(10, 20, kernel_size=5)\n",
    "        self.conv2_drop = nn.Dropout2d()\n",
    "        self.fc1 = nn.Linear(320, 50)\n",
    "        self.fc2 = nn.Linear(50, 10)\n",
    "\n",
    "    def forward(self, x):\n",
    "        x = F.relu(F.max_pool2d(self.conv1(x), 2))\n",
    "        x = F.relu(F.max_pool2d(self.conv2_drop(self.conv2(x)), 2))\n",
    "        x = x.view(-1, 320)\n",
    "        x = F.relu(self.fc1(x))\n",
    "        x = F.dropout(x, training=self.training)\n",
    "        x = self.fc2(x)\n",
    "\n",
    "        return x"
   ]
  },
  {
   "cell_type": "code",
   "execution_count": 36,
   "id": "40918969-3a76-4ea0-8759-17bed110a705",
   "metadata": {},
   "outputs": [],
   "source": [
    "device = torch.device(\"cuda\" if torch.cuda.is_available() else \"cpu\")\n",
    "\n",
    "model = CNN().to(device)\n",
    "\n",
    "optimizer = optim.Adam(model.parameters(), lr=0.001)\n",
    "\n",
    "loss_fn = nn.CrossEntropyLoss()\n",
    "\n",
    "def train(epoch):\n",
    "    model.train()\n",
    "    for  batch_idx, (data, target) in enumerate(loaders['train']):\n",
    "        data, target = data.to(device), target.to(device)\n",
    "        optimizer.zero_grad()\n",
    "        output = model(data)\n",
    "        loss = loss_fn(output, target)\n",
    "        loss.backward()\n",
    "        optimizer.step()\n",
    "        if batch_idx % 20 == 0:\n",
    "            print(f'Train Epoch: {epoch} [{batch_idx * len(data)} / {len(loaders[\"train\"].dataset)} ({100. * batch_idx/ len(loaders[\"train\"]):.0f}%)] \\t {loss.item():.6f}')\n",
    "\n",
    "def test():\n",
    "    model.eval()\n",
    "    test_loss = 0\n",
    "    correct = 0\n",
    "    with torch.no_grad():\n",
    "        for data, target in loaders['test']:\n",
    "            data, target = data.to(device), target.to(device)\n",
    "            output = model(data)\n",
    "            test_loss += loss_fn(output, target).item()\n",
    "            pred = output.argmax(dim=1, keepdim=True)\n",
    "            correct += pred.eq(target.view_as(pred)).sum().item()\n",
    "\n",
    "    test_loss /= len(loaders['test'].dataset)\n",
    "    print(f\"\\nTest set: Average loss: {test_loss:.4f}, Accuracy: {correct}/{len(loaders['test'].dataset)} {(100. * correct / len(loaders['test'].dataset)):.0f}% \\n\")"
   ]
  },
  {
   "cell_type": "code",
   "execution_count": 38,
   "id": "4f8c9f3c-6c5f-4d63-bb8c-d69353d02b91",
   "metadata": {},
   "outputs": [],
   "source": [
    "#CrossEntropyLoss computes softmax internally. It expects raw logits and not probabilities. \n",
    "#Do not use softmax when using CrossEntropyLoss. \n",
    "#If using softmax, use NLLLoss instead"
   ]
  },
  {
   "cell_type": "code",
   "execution_count": 37,
   "id": "5bb76b49-4018-4503-9c32-9a7da5a83c2f",
   "metadata": {},
   "outputs": [
    {
     "name": "stdout",
     "output_type": "stream",
     "text": [
      "Train Epoch: 1 [0 / 60000 (0%)] \t 2.295273\n",
      "Train Epoch: 1 [2000 / 60000 (3%)] \t 2.164426\n",
      "Train Epoch: 1 [4000 / 60000 (7%)] \t 1.746723\n",
      "Train Epoch: 1 [6000 / 60000 (10%)] \t 1.272058\n",
      "Train Epoch: 1 [8000 / 60000 (13%)] \t 1.168480\n",
      "Train Epoch: 1 [10000 / 60000 (17%)] \t 0.733059\n",
      "Train Epoch: 1 [12000 / 60000 (20%)] \t 0.666042\n",
      "Train Epoch: 1 [14000 / 60000 (23%)] \t 0.814611\n",
      "Train Epoch: 1 [16000 / 60000 (27%)] \t 0.648986\n",
      "Train Epoch: 1 [18000 / 60000 (30%)] \t 0.569190\n",
      "Train Epoch: 1 [20000 / 60000 (33%)] \t 0.494583\n",
      "Train Epoch: 1 [22000 / 60000 (37%)] \t 0.439391\n",
      "Train Epoch: 1 [24000 / 60000 (40%)] \t 0.418565\n",
      "Train Epoch: 1 [26000 / 60000 (43%)] \t 0.386004\n",
      "Train Epoch: 1 [28000 / 60000 (47%)] \t 0.518887\n",
      "Train Epoch: 1 [30000 / 60000 (50%)] \t 0.614693\n",
      "Train Epoch: 1 [32000 / 60000 (53%)] \t 0.531087\n",
      "Train Epoch: 1 [34000 / 60000 (57%)] \t 0.293998\n",
      "Train Epoch: 1 [36000 / 60000 (60%)] \t 0.362829\n",
      "Train Epoch: 1 [38000 / 60000 (63%)] \t 0.645852\n",
      "Train Epoch: 1 [40000 / 60000 (67%)] \t 0.277168\n",
      "Train Epoch: 1 [42000 / 60000 (70%)] \t 0.406792\n",
      "Train Epoch: 1 [44000 / 60000 (73%)] \t 0.448746\n",
      "Train Epoch: 1 [46000 / 60000 (77%)] \t 0.305060\n",
      "Train Epoch: 1 [48000 / 60000 (80%)] \t 0.318410\n",
      "Train Epoch: 1 [50000 / 60000 (83%)] \t 0.280365\n",
      "Train Epoch: 1 [52000 / 60000 (87%)] \t 0.324351\n",
      "Train Epoch: 1 [54000 / 60000 (90%)] \t 0.300616\n",
      "Train Epoch: 1 [56000 / 60000 (93%)] \t 0.235414\n",
      "Train Epoch: 1 [58000 / 60000 (97%)] \t 0.234729\n",
      "\n",
      "Test set: Average loss: 0.0013, Accuracy: 9604/10000 96% \n",
      "\n",
      "Train Epoch: 2 [0 / 60000 (0%)] \t 0.267753\n",
      "Train Epoch: 2 [2000 / 60000 (3%)] \t 0.338642\n",
      "Train Epoch: 2 [4000 / 60000 (7%)] \t 0.183706\n",
      "Train Epoch: 2 [6000 / 60000 (10%)] \t 0.506610\n",
      "Train Epoch: 2 [8000 / 60000 (13%)] \t 0.260423\n",
      "Train Epoch: 2 [10000 / 60000 (17%)] \t 0.258221\n",
      "Train Epoch: 2 [12000 / 60000 (20%)] \t 0.252478\n",
      "Train Epoch: 2 [14000 / 60000 (23%)] \t 0.250309\n",
      "Train Epoch: 2 [16000 / 60000 (27%)] \t 0.342361\n",
      "Train Epoch: 2 [18000 / 60000 (30%)] \t 0.416465\n",
      "Train Epoch: 2 [20000 / 60000 (33%)] \t 0.201625\n",
      "Train Epoch: 2 [22000 / 60000 (37%)] \t 0.238711\n",
      "Train Epoch: 2 [24000 / 60000 (40%)] \t 0.172262\n",
      "Train Epoch: 2 [26000 / 60000 (43%)] \t 0.211740\n",
      "Train Epoch: 2 [28000 / 60000 (47%)] \t 0.213758\n",
      "Train Epoch: 2 [30000 / 60000 (50%)] \t 0.174100\n",
      "Train Epoch: 2 [32000 / 60000 (53%)] \t 0.408621\n",
      "Train Epoch: 2 [34000 / 60000 (57%)] \t 0.266398\n",
      "Train Epoch: 2 [36000 / 60000 (60%)] \t 0.270979\n",
      "Train Epoch: 2 [38000 / 60000 (63%)] \t 0.230027\n",
      "Train Epoch: 2 [40000 / 60000 (67%)] \t 0.242212\n",
      "Train Epoch: 2 [42000 / 60000 (70%)] \t 0.400807\n",
      "Train Epoch: 2 [44000 / 60000 (73%)] \t 0.220452\n",
      "Train Epoch: 2 [46000 / 60000 (77%)] \t 0.201928\n",
      "Train Epoch: 2 [48000 / 60000 (80%)] \t 0.153960\n",
      "Train Epoch: 2 [50000 / 60000 (83%)] \t 0.212811\n",
      "Train Epoch: 2 [52000 / 60000 (87%)] \t 0.159341\n",
      "Train Epoch: 2 [54000 / 60000 (90%)] \t 0.240535\n",
      "Train Epoch: 2 [56000 / 60000 (93%)] \t 0.290715\n",
      "Train Epoch: 2 [58000 / 60000 (97%)] \t 0.333900\n",
      "\n",
      "Test set: Average loss: 0.0009, Accuracy: 9733/10000 97% \n",
      "\n",
      "Train Epoch: 3 [0 / 60000 (0%)] \t 0.251307\n",
      "Train Epoch: 3 [2000 / 60000 (3%)] \t 0.117030\n",
      "Train Epoch: 3 [4000 / 60000 (7%)] \t 0.192723\n",
      "Train Epoch: 3 [6000 / 60000 (10%)] \t 0.221782\n",
      "Train Epoch: 3 [8000 / 60000 (13%)] \t 0.271682\n",
      "Train Epoch: 3 [10000 / 60000 (17%)] \t 0.189811\n",
      "Train Epoch: 3 [12000 / 60000 (20%)] \t 0.087333\n",
      "Train Epoch: 3 [14000 / 60000 (23%)] \t 0.163152\n",
      "Train Epoch: 3 [16000 / 60000 (27%)] \t 0.162728\n",
      "Train Epoch: 3 [18000 / 60000 (30%)] \t 0.294607\n",
      "Train Epoch: 3 [20000 / 60000 (33%)] \t 0.281242\n",
      "Train Epoch: 3 [22000 / 60000 (37%)] \t 0.448883\n",
      "Train Epoch: 3 [24000 / 60000 (40%)] \t 0.233766\n",
      "Train Epoch: 3 [26000 / 60000 (43%)] \t 0.136186\n",
      "Train Epoch: 3 [28000 / 60000 (47%)] \t 0.237538\n",
      "Train Epoch: 3 [30000 / 60000 (50%)] \t 0.215938\n",
      "Train Epoch: 3 [32000 / 60000 (53%)] \t 0.261450\n",
      "Train Epoch: 3 [34000 / 60000 (57%)] \t 0.198314\n",
      "Train Epoch: 3 [36000 / 60000 (60%)] \t 0.200395\n",
      "Train Epoch: 3 [38000 / 60000 (63%)] \t 0.092131\n",
      "Train Epoch: 3 [40000 / 60000 (67%)] \t 0.238400\n",
      "Train Epoch: 3 [42000 / 60000 (70%)] \t 0.234332\n",
      "Train Epoch: 3 [44000 / 60000 (73%)] \t 0.242539\n",
      "Train Epoch: 3 [46000 / 60000 (77%)] \t 0.203194\n",
      "Train Epoch: 3 [48000 / 60000 (80%)] \t 0.296306\n",
      "Train Epoch: 3 [50000 / 60000 (83%)] \t 0.193092\n",
      "Train Epoch: 3 [52000 / 60000 (87%)] \t 0.201469\n",
      "Train Epoch: 3 [54000 / 60000 (90%)] \t 0.100211\n",
      "Train Epoch: 3 [56000 / 60000 (93%)] \t 0.169059\n",
      "Train Epoch: 3 [58000 / 60000 (97%)] \t 0.243394\n",
      "\n",
      "Test set: Average loss: 0.0007, Accuracy: 9776/10000 98% \n",
      "\n",
      "Train Epoch: 4 [0 / 60000 (0%)] \t 0.141720\n",
      "Train Epoch: 4 [2000 / 60000 (3%)] \t 0.248616\n",
      "Train Epoch: 4 [4000 / 60000 (7%)] \t 0.336415\n",
      "Train Epoch: 4 [6000 / 60000 (10%)] \t 0.086601\n",
      "Train Epoch: 4 [8000 / 60000 (13%)] \t 0.192234\n",
      "Train Epoch: 4 [10000 / 60000 (17%)] \t 0.268406\n",
      "Train Epoch: 4 [12000 / 60000 (20%)] \t 0.175392\n",
      "Train Epoch: 4 [14000 / 60000 (23%)] \t 0.189520\n",
      "Train Epoch: 4 [16000 / 60000 (27%)] \t 0.167521\n",
      "Train Epoch: 4 [18000 / 60000 (30%)] \t 0.151608\n",
      "Train Epoch: 4 [20000 / 60000 (33%)] \t 0.091116\n",
      "Train Epoch: 4 [22000 / 60000 (37%)] \t 0.135394\n",
      "Train Epoch: 4 [24000 / 60000 (40%)] \t 0.278910\n",
      "Train Epoch: 4 [26000 / 60000 (43%)] \t 0.219716\n",
      "Train Epoch: 4 [28000 / 60000 (47%)] \t 0.220628\n",
      "Train Epoch: 4 [30000 / 60000 (50%)] \t 0.311998\n",
      "Train Epoch: 4 [32000 / 60000 (53%)] \t 0.253649\n",
      "Train Epoch: 4 [34000 / 60000 (57%)] \t 0.196940\n",
      "Train Epoch: 4 [36000 / 60000 (60%)] \t 0.132015\n",
      "Train Epoch: 4 [38000 / 60000 (63%)] \t 0.244436\n",
      "Train Epoch: 4 [40000 / 60000 (67%)] \t 0.173076\n",
      "Train Epoch: 4 [42000 / 60000 (70%)] \t 0.217375\n",
      "Train Epoch: 4 [44000 / 60000 (73%)] \t 0.195985\n",
      "Train Epoch: 4 [46000 / 60000 (77%)] \t 0.341786\n",
      "Train Epoch: 4 [48000 / 60000 (80%)] \t 0.170491\n",
      "Train Epoch: 4 [50000 / 60000 (83%)] \t 0.228472\n",
      "Train Epoch: 4 [52000 / 60000 (87%)] \t 0.261528\n",
      "Train Epoch: 4 [54000 / 60000 (90%)] \t 0.234693\n",
      "Train Epoch: 4 [56000 / 60000 (93%)] \t 0.177324\n",
      "Train Epoch: 4 [58000 / 60000 (97%)] \t 0.177696\n",
      "\n",
      "Test set: Average loss: 0.0006, Accuracy: 9800/10000 98% \n",
      "\n",
      "Train Epoch: 5 [0 / 60000 (0%)] \t 0.127768\n",
      "Train Epoch: 5 [2000 / 60000 (3%)] \t 0.194956\n",
      "Train Epoch: 5 [4000 / 60000 (7%)] \t 0.119976\n",
      "Train Epoch: 5 [6000 / 60000 (10%)] \t 0.228742\n",
      "Train Epoch: 5 [8000 / 60000 (13%)] \t 0.107285\n",
      "Train Epoch: 5 [10000 / 60000 (17%)] \t 0.185715\n",
      "Train Epoch: 5 [12000 / 60000 (20%)] \t 0.084421\n",
      "Train Epoch: 5 [14000 / 60000 (23%)] \t 0.281565\n",
      "Train Epoch: 5 [16000 / 60000 (27%)] \t 0.195472\n",
      "Train Epoch: 5 [18000 / 60000 (30%)] \t 0.134685\n",
      "Train Epoch: 5 [20000 / 60000 (33%)] \t 0.248611\n",
      "Train Epoch: 5 [22000 / 60000 (37%)] \t 0.134171\n",
      "Train Epoch: 5 [24000 / 60000 (40%)] \t 0.237577\n",
      "Train Epoch: 5 [26000 / 60000 (43%)] \t 0.197360\n",
      "Train Epoch: 5 [28000 / 60000 (47%)] \t 0.182218\n",
      "Train Epoch: 5 [30000 / 60000 (50%)] \t 0.214463\n",
      "Train Epoch: 5 [32000 / 60000 (53%)] \t 0.338876\n",
      "Train Epoch: 5 [34000 / 60000 (57%)] \t 0.206259\n",
      "Train Epoch: 5 [36000 / 60000 (60%)] \t 0.335665\n",
      "Train Epoch: 5 [38000 / 60000 (63%)] \t 0.155734\n",
      "Train Epoch: 5 [40000 / 60000 (67%)] \t 0.228397\n",
      "Train Epoch: 5 [42000 / 60000 (70%)] \t 0.074689\n",
      "Train Epoch: 5 [44000 / 60000 (73%)] \t 0.139172\n",
      "Train Epoch: 5 [46000 / 60000 (77%)] \t 0.204912\n",
      "Train Epoch: 5 [48000 / 60000 (80%)] \t 0.104501\n",
      "Train Epoch: 5 [50000 / 60000 (83%)] \t 0.183446\n",
      "Train Epoch: 5 [52000 / 60000 (87%)] \t 0.127090\n",
      "Train Epoch: 5 [54000 / 60000 (90%)] \t 0.214883\n",
      "Train Epoch: 5 [56000 / 60000 (93%)] \t 0.295879\n",
      "Train Epoch: 5 [58000 / 60000 (97%)] \t 0.196901\n",
      "\n",
      "Test set: Average loss: 0.0006, Accuracy: 9814/10000 98% \n",
      "\n",
      "Train Epoch: 6 [0 / 60000 (0%)] \t 0.233656\n",
      "Train Epoch: 6 [2000 / 60000 (3%)] \t 0.171050\n",
      "Train Epoch: 6 [4000 / 60000 (7%)] \t 0.379871\n",
      "Train Epoch: 6 [6000 / 60000 (10%)] \t 0.135625\n",
      "Train Epoch: 6 [8000 / 60000 (13%)] \t 0.195591\n",
      "Train Epoch: 6 [10000 / 60000 (17%)] \t 0.158437\n",
      "Train Epoch: 6 [12000 / 60000 (20%)] \t 0.121265\n",
      "Train Epoch: 6 [14000 / 60000 (23%)] \t 0.174256\n",
      "Train Epoch: 6 [16000 / 60000 (27%)] \t 0.165616\n",
      "Train Epoch: 6 [18000 / 60000 (30%)] \t 0.320619\n",
      "Train Epoch: 6 [20000 / 60000 (33%)] \t 0.247376\n",
      "Train Epoch: 6 [22000 / 60000 (37%)] \t 0.132455\n",
      "Train Epoch: 6 [24000 / 60000 (40%)] \t 0.331620\n",
      "Train Epoch: 6 [26000 / 60000 (43%)] \t 0.194455\n",
      "Train Epoch: 6 [28000 / 60000 (47%)] \t 0.134127\n",
      "Train Epoch: 6 [30000 / 60000 (50%)] \t 0.264291\n",
      "Train Epoch: 6 [32000 / 60000 (53%)] \t 0.236016\n",
      "Train Epoch: 6 [34000 / 60000 (57%)] \t 0.211373\n",
      "Train Epoch: 6 [36000 / 60000 (60%)] \t 0.176521\n",
      "Train Epoch: 6 [38000 / 60000 (63%)] \t 0.046551\n",
      "Train Epoch: 6 [40000 / 60000 (67%)] \t 0.164613\n",
      "Train Epoch: 6 [42000 / 60000 (70%)] \t 0.179457\n",
      "Train Epoch: 6 [44000 / 60000 (73%)] \t 0.182803\n",
      "Train Epoch: 6 [46000 / 60000 (77%)] \t 0.286217\n",
      "Train Epoch: 6 [48000 / 60000 (80%)] \t 0.166964\n",
      "Train Epoch: 6 [50000 / 60000 (83%)] \t 0.198696\n",
      "Train Epoch: 6 [52000 / 60000 (87%)] \t 0.070764\n",
      "Train Epoch: 6 [54000 / 60000 (90%)] \t 0.219143\n",
      "Train Epoch: 6 [56000 / 60000 (93%)] \t 0.138702\n",
      "Train Epoch: 6 [58000 / 60000 (97%)] \t 0.104172\n",
      "\n",
      "Test set: Average loss: 0.0006, Accuracy: 9827/10000 98% \n",
      "\n",
      "Train Epoch: 7 [0 / 60000 (0%)] \t 0.208120\n",
      "Train Epoch: 7 [2000 / 60000 (3%)] \t 0.085708\n",
      "Train Epoch: 7 [4000 / 60000 (7%)] \t 0.108868\n",
      "Train Epoch: 7 [6000 / 60000 (10%)] \t 0.115019\n",
      "Train Epoch: 7 [8000 / 60000 (13%)] \t 0.177626\n",
      "Train Epoch: 7 [10000 / 60000 (17%)] \t 0.210948\n",
      "Train Epoch: 7 [12000 / 60000 (20%)] \t 0.080458\n",
      "Train Epoch: 7 [14000 / 60000 (23%)] \t 0.202920\n",
      "Train Epoch: 7 [16000 / 60000 (27%)] \t 0.157527\n",
      "Train Epoch: 7 [18000 / 60000 (30%)] \t 0.209712\n",
      "Train Epoch: 7 [20000 / 60000 (33%)] \t 0.214095\n",
      "Train Epoch: 7 [22000 / 60000 (37%)] \t 0.191094\n",
      "Train Epoch: 7 [24000 / 60000 (40%)] \t 0.135909\n",
      "Train Epoch: 7 [26000 / 60000 (43%)] \t 0.131161\n",
      "Train Epoch: 7 [28000 / 60000 (47%)] \t 0.286685\n",
      "Train Epoch: 7 [30000 / 60000 (50%)] \t 0.124084\n",
      "Train Epoch: 7 [32000 / 60000 (53%)] \t 0.096117\n",
      "Train Epoch: 7 [34000 / 60000 (57%)] \t 0.081055\n",
      "Train Epoch: 7 [36000 / 60000 (60%)] \t 0.168965\n",
      "Train Epoch: 7 [38000 / 60000 (63%)] \t 0.061641\n",
      "Train Epoch: 7 [40000 / 60000 (67%)] \t 0.125069\n",
      "Train Epoch: 7 [42000 / 60000 (70%)] \t 0.110570\n",
      "Train Epoch: 7 [44000 / 60000 (73%)] \t 0.178856\n",
      "Train Epoch: 7 [46000 / 60000 (77%)] \t 0.263375\n",
      "Train Epoch: 7 [48000 / 60000 (80%)] \t 0.084809\n",
      "Train Epoch: 7 [50000 / 60000 (83%)] \t 0.110564\n",
      "Train Epoch: 7 [52000 / 60000 (87%)] \t 0.199951\n",
      "Train Epoch: 7 [54000 / 60000 (90%)] \t 0.067238\n",
      "Train Epoch: 7 [56000 / 60000 (93%)] \t 0.068290\n",
      "Train Epoch: 7 [58000 / 60000 (97%)] \t 0.304159\n",
      "\n",
      "Test set: Average loss: 0.0005, Accuracy: 9836/10000 98% \n",
      "\n",
      "Train Epoch: 8 [0 / 60000 (0%)] \t 0.168111\n",
      "Train Epoch: 8 [2000 / 60000 (3%)] \t 0.093274\n",
      "Train Epoch: 8 [4000 / 60000 (7%)] \t 0.250606\n",
      "Train Epoch: 8 [6000 / 60000 (10%)] \t 0.115370\n",
      "Train Epoch: 8 [8000 / 60000 (13%)] \t 0.144213\n",
      "Train Epoch: 8 [10000 / 60000 (17%)] \t 0.043327\n",
      "Train Epoch: 8 [12000 / 60000 (20%)] \t 0.059558\n",
      "Train Epoch: 8 [14000 / 60000 (23%)] \t 0.121939\n",
      "Train Epoch: 8 [16000 / 60000 (27%)] \t 0.124577\n",
      "Train Epoch: 8 [18000 / 60000 (30%)] \t 0.114097\n",
      "Train Epoch: 8 [20000 / 60000 (33%)] \t 0.077901\n",
      "Train Epoch: 8 [22000 / 60000 (37%)] \t 0.098215\n",
      "Train Epoch: 8 [24000 / 60000 (40%)] \t 0.119382\n",
      "Train Epoch: 8 [26000 / 60000 (43%)] \t 0.116422\n",
      "Train Epoch: 8 [28000 / 60000 (47%)] \t 0.242479\n",
      "Train Epoch: 8 [30000 / 60000 (50%)] \t 0.115218\n",
      "Train Epoch: 8 [32000 / 60000 (53%)] \t 0.079940\n",
      "Train Epoch: 8 [34000 / 60000 (57%)] \t 0.206372\n",
      "Train Epoch: 8 [36000 / 60000 (60%)] \t 0.141017\n",
      "Train Epoch: 8 [38000 / 60000 (63%)] \t 0.364777\n",
      "Train Epoch: 8 [40000 / 60000 (67%)] \t 0.167978\n",
      "Train Epoch: 8 [42000 / 60000 (70%)] \t 0.135689\n",
      "Train Epoch: 8 [44000 / 60000 (73%)] \t 0.179765\n",
      "Train Epoch: 8 [46000 / 60000 (77%)] \t 0.224375\n",
      "Train Epoch: 8 [48000 / 60000 (80%)] \t 0.187030\n",
      "Train Epoch: 8 [50000 / 60000 (83%)] \t 0.082386\n",
      "Train Epoch: 8 [52000 / 60000 (87%)] \t 0.164383\n",
      "Train Epoch: 8 [54000 / 60000 (90%)] \t 0.078059\n",
      "Train Epoch: 8 [56000 / 60000 (93%)] \t 0.107496\n",
      "Train Epoch: 8 [58000 / 60000 (97%)] \t 0.175484\n",
      "\n",
      "Test set: Average loss: 0.0005, Accuracy: 9848/10000 98% \n",
      "\n",
      "Train Epoch: 9 [0 / 60000 (0%)] \t 0.366043\n",
      "Train Epoch: 9 [2000 / 60000 (3%)] \t 0.117319\n",
      "Train Epoch: 9 [4000 / 60000 (7%)] \t 0.105321\n",
      "Train Epoch: 9 [6000 / 60000 (10%)] \t 0.169553\n",
      "Train Epoch: 9 [8000 / 60000 (13%)] \t 0.115383\n",
      "Train Epoch: 9 [10000 / 60000 (17%)] \t 0.121241\n",
      "Train Epoch: 9 [12000 / 60000 (20%)] \t 0.105684\n",
      "Train Epoch: 9 [14000 / 60000 (23%)] \t 0.067356\n",
      "Train Epoch: 9 [16000 / 60000 (27%)] \t 0.177612\n",
      "Train Epoch: 9 [18000 / 60000 (30%)] \t 0.085117\n",
      "Train Epoch: 9 [20000 / 60000 (33%)] \t 0.134229\n",
      "Train Epoch: 9 [22000 / 60000 (37%)] \t 0.197927\n",
      "Train Epoch: 9 [24000 / 60000 (40%)] \t 0.148444\n",
      "Train Epoch: 9 [26000 / 60000 (43%)] \t 0.114846\n",
      "Train Epoch: 9 [28000 / 60000 (47%)] \t 0.123880\n",
      "Train Epoch: 9 [30000 / 60000 (50%)] \t 0.138149\n",
      "Train Epoch: 9 [32000 / 60000 (53%)] \t 0.104954\n",
      "Train Epoch: 9 [34000 / 60000 (57%)] \t 0.213208\n",
      "Train Epoch: 9 [36000 / 60000 (60%)] \t 0.106737\n",
      "Train Epoch: 9 [38000 / 60000 (63%)] \t 0.157420\n",
      "Train Epoch: 9 [40000 / 60000 (67%)] \t 0.103929\n",
      "Train Epoch: 9 [42000 / 60000 (70%)] \t 0.174223\n",
      "Train Epoch: 9 [44000 / 60000 (73%)] \t 0.162932\n",
      "Train Epoch: 9 [46000 / 60000 (77%)] \t 0.096598\n",
      "Train Epoch: 9 [48000 / 60000 (80%)] \t 0.068229\n",
      "Train Epoch: 9 [50000 / 60000 (83%)] \t 0.067661\n",
      "Train Epoch: 9 [52000 / 60000 (87%)] \t 0.168187\n",
      "Train Epoch: 9 [54000 / 60000 (90%)] \t 0.102438\n",
      "Train Epoch: 9 [56000 / 60000 (93%)] \t 0.114821\n",
      "Train Epoch: 9 [58000 / 60000 (97%)] \t 0.132378\n",
      "\n",
      "Test set: Average loss: 0.0005, Accuracy: 9857/10000 99% \n",
      "\n",
      "Train Epoch: 10 [0 / 60000 (0%)] \t 0.117084\n",
      "Train Epoch: 10 [2000 / 60000 (3%)] \t 0.159856\n",
      "Train Epoch: 10 [4000 / 60000 (7%)] \t 0.061020\n",
      "Train Epoch: 10 [6000 / 60000 (10%)] \t 0.172963\n",
      "Train Epoch: 10 [8000 / 60000 (13%)] \t 0.177935\n",
      "Train Epoch: 10 [10000 / 60000 (17%)] \t 0.074558\n",
      "Train Epoch: 10 [12000 / 60000 (20%)] \t 0.161010\n",
      "Train Epoch: 10 [14000 / 60000 (23%)] \t 0.135811\n",
      "Train Epoch: 10 [16000 / 60000 (27%)] \t 0.099983\n",
      "Train Epoch: 10 [18000 / 60000 (30%)] \t 0.141599\n",
      "Train Epoch: 10 [20000 / 60000 (33%)] \t 0.106582\n",
      "Train Epoch: 10 [22000 / 60000 (37%)] \t 0.206943\n",
      "Train Epoch: 10 [24000 / 60000 (40%)] \t 0.073777\n",
      "Train Epoch: 10 [26000 / 60000 (43%)] \t 0.138815\n",
      "Train Epoch: 10 [28000 / 60000 (47%)] \t 0.113833\n",
      "Train Epoch: 10 [30000 / 60000 (50%)] \t 0.124042\n",
      "Train Epoch: 10 [32000 / 60000 (53%)] \t 0.120831\n",
      "Train Epoch: 10 [34000 / 60000 (57%)] \t 0.139250\n",
      "Train Epoch: 10 [36000 / 60000 (60%)] \t 0.066719\n",
      "Train Epoch: 10 [38000 / 60000 (63%)] \t 0.089361\n",
      "Train Epoch: 10 [40000 / 60000 (67%)] \t 0.082106\n",
      "Train Epoch: 10 [42000 / 60000 (70%)] \t 0.120056\n",
      "Train Epoch: 10 [44000 / 60000 (73%)] \t 0.080572\n",
      "Train Epoch: 10 [46000 / 60000 (77%)] \t 0.048890\n",
      "Train Epoch: 10 [48000 / 60000 (80%)] \t 0.208134\n",
      "Train Epoch: 10 [50000 / 60000 (83%)] \t 0.256975\n",
      "Train Epoch: 10 [52000 / 60000 (87%)] \t 0.086434\n",
      "Train Epoch: 10 [54000 / 60000 (90%)] \t 0.079029\n",
      "Train Epoch: 10 [56000 / 60000 (93%)] \t 0.128503\n",
      "Train Epoch: 10 [58000 / 60000 (97%)] \t 0.105028\n",
      "\n",
      "Test set: Average loss: 0.0004, Accuracy: 9871/10000 99% \n",
      "\n"
     ]
    }
   ],
   "source": [
    "for epoch in range(1,11):\n",
    "    train(epoch)\n",
    "    test()"
   ]
  },
  {
   "cell_type": "code",
   "execution_count": 71,
   "id": "0653b18f-ca8d-47fd-9c19-25c3ae18632e",
   "metadata": {},
   "outputs": [
    {
     "name": "stdout",
     "output_type": "stream",
     "text": [
      "torch.Size([1, 28, 28])\n",
      "Prediction: 4\n"
     ]
    },
    {
     "data": {
      "image/png": "[encoded data removed]",
      "text/plain": [
       "<Figure size 640x480 with 1 Axes>"
      ]
     },
     "metadata": {},
     "output_type": "display_data"
    }
   ],
   "source": [
    "model.eval()\n",
    "\n",
    "data, target = test_data[250]\n",
    "\n",
    "print(data.shape)\n",
    "\n",
    "data = data.unsqueeze(0).to(device)\n",
    "# ex. [1,2] turns to [[1,2]] the datapoint is sent as a list of data points\n",
    "\n",
    "output = model(data)\n",
    "\n",
    "prediction = output.argmax(dim=1, keepdim=True).item()\n",
    "\n",
    "print(f'Prediction: {prediction}')\n",
    "\n",
    "image = data.squeeze(0).squeeze(0).cpu().numpy()\n",
    "\n",
    "plt.imshow(image, cmap='gray')\n",
    "plt.show()"
   ]
  },
  {
   "cell_type": "code",
   "execution_count": 41,
   "id": "76784d2b-ff91-47d6-80c2-827a998130c5",
   "metadata": {},
   "outputs": [
    {
     "name": "stdout",
     "output_type": "stream",
     "text": [
      "tensor([[[[0.0000, 0.0000, 0.0000, 0.0000, 0.0000, 0.0000, 0.0000, 0.0000,\n",
      "           0.0000, 0.0000, 0.0000, 0.0000, 0.0000, 0.0000, 0.0000, 0.0000,\n",
      "           0.0000, 0.0000, 0.0000, 0.0000, 0.0000, 0.0000, 0.0000, 0.0000,\n",
      "           0.0000, 0.0000, 0.0000, 0.0000],\n",
      "          [0.0000, 0.0000, 0.0000, 0.0000, 0.0000, 0.0000, 0.0000, 0.0000,\n",
      "           0.0000, 0.0000, 0.0000, 0.0000, 0.0000, 0.0000, 0.0000, 0.0000,\n",
      "           0.0000, 0.0000, 0.0000, 0.0000, 0.0000, 0.0000, 0.0000, 0.0000,\n",
      "           0.0000, 0.0000, 0.0000, 0.0000],\n",
      "          [0.0000, 0.0000, 0.0000, 0.0000, 0.0000, 0.0000, 0.0000, 0.0000,\n",
      "           0.0000, 0.0000, 0.0000, 0.0000, 0.0000, 0.0000, 0.0000, 0.0000,\n",
      "           0.0000, 0.0000, 0.0000, 0.0000, 0.0000, 0.0000, 0.0000, 0.0000,\n",
      "           0.0000, 0.0000, 0.0000, 0.0000],\n",
      "          [0.0000, 0.0000, 0.0000, 0.0000, 0.0000, 0.0000, 0.0000, 0.0000,\n",
      "           0.0000, 0.0000, 0.0000, 0.0000, 0.0000, 0.0000, 0.0000, 0.0000,\n",
      "           0.0000, 0.0000, 0.0000, 0.0000, 0.0000, 0.0000, 0.0000, 0.0000,\n",
      "           0.0000, 0.0000, 0.0000, 0.0000],\n",
      "          [0.0000, 0.0000, 0.0000, 0.0000, 0.0000, 0.0000, 0.0000, 0.0000,\n",
      "           0.0000, 0.0000, 0.0000, 0.0000, 0.0000, 0.0000, 0.0000, 0.0000,\n",
      "           0.0000, 0.0000, 0.0000, 0.0000, 0.0000, 0.0000, 0.0000, 0.0000,\n",
      "           0.0000, 0.0000, 0.0000, 0.0000],\n",
      "          [0.0000, 0.0000, 0.0000, 0.0000, 0.0000, 0.0000, 0.0000, 0.0000,\n",
      "           0.0000, 0.0000, 0.0314, 0.4784, 0.1137, 0.0000, 0.0000, 0.1137,\n",
      "           0.6745, 0.8392, 0.0235, 0.0000, 0.0000, 0.0000, 0.0000, 0.0000,\n",
      "           0.0000, 0.0000, 0.0000, 0.0000],\n",
      "          [0.0000, 0.0000, 0.0000, 0.0000, 0.0000, 0.0000, 0.0000, 0.0000,\n",
      "           0.0000, 0.0157, 0.6157, 0.9961, 0.8157, 0.0000, 0.0000, 0.5098,\n",
      "           0.9961, 0.9961, 0.4784, 0.0000, 0.0000, 0.0000, 0.0000, 0.0000,\n",
      "           0.0000, 0.0000, 0.0000, 0.0000],\n",
      "          [0.0000, 0.0000, 0.0000, 0.0000, 0.0000, 0.0000, 0.0000, 0.0000,\n",
      "           0.0000, 0.6078, 0.9961, 0.9961, 0.9882, 0.3176, 0.0078, 0.7020,\n",
      "           0.9961, 0.9961, 0.8941, 0.0078, 0.0000, 0.0000, 0.0000, 0.0000,\n",
      "           0.0000, 0.0000, 0.0000, 0.0000],\n",
      "          [0.0000, 0.0000, 0.0000, 0.0000, 0.0000, 0.0000, 0.0000, 0.0000,\n",
      "           0.0000, 0.8941, 0.9961, 0.9961, 0.9961, 0.3608, 0.1490, 0.9608,\n",
      "           0.9961, 0.9961, 0.9804, 0.2627, 0.0000, 0.0000, 0.0000, 0.0000,\n",
      "           0.0000, 0.0000, 0.0000, 0.0000],\n",
      "          [0.0000, 0.0000, 0.0000, 0.0000, 0.0000, 0.0000, 0.0000, 0.0000,\n",
      "           0.0000, 0.8941, 0.9961, 0.9961, 0.9490, 0.0941, 0.0000, 0.9373,\n",
      "           0.9961, 0.9961, 0.8902, 0.0000, 0.0000, 0.0000, 0.0000, 0.0000,\n",
      "           0.0000, 0.0000, 0.0000, 0.0000],\n",
      "          [0.0000, 0.0000, 0.0000, 0.0000, 0.0000, 0.0000, 0.0000, 0.0000,\n",
      "           0.3098, 0.9882, 0.9961, 0.9961, 0.9333, 0.0000, 0.1569, 0.9647,\n",
      "           0.9961, 0.9961, 0.8902, 0.0000, 0.0000, 0.0000, 0.0000, 0.0000,\n",
      "           0.0000, 0.0000, 0.0000, 0.0000],\n",
      "          [0.0000, 0.0000, 0.0000, 0.0000, 0.0000, 0.0000, 0.0000, 0.0353,\n",
      "           0.7961, 0.9961, 0.9961, 0.9961, 0.5882, 0.0000, 0.0000, 0.9373,\n",
      "           0.9961, 0.9961, 0.9098, 0.0627, 0.0000, 0.0000, 0.0000, 0.0000,\n",
      "           0.0000, 0.0000, 0.0000, 0.0000],\n",
      "          [0.0000, 0.0000, 0.0000, 0.0000, 0.0000, 0.0000, 0.0000, 0.1725,\n",
      "           0.9961, 0.9961, 0.9961, 0.9961, 0.3765, 0.0000, 0.1255, 0.9569,\n",
      "           0.9961, 0.9961, 0.9961, 0.3176, 0.0000, 0.0000, 0.0000, 0.0000,\n",
      "           0.0000, 0.0000, 0.0000, 0.0000],\n",
      "          [0.0000, 0.0000, 0.0000, 0.0000, 0.0000, 0.0000, 0.0000, 0.2000,\n",
      "           0.9961, 0.9961, 0.9961, 0.9961, 0.9922, 0.9176, 0.9451, 0.9961,\n",
      "           0.9961, 0.9961, 0.9961, 0.8157, 0.0745, 0.0000, 0.0000, 0.0000,\n",
      "           0.0000, 0.0000, 0.0000, 0.0000],\n",
      "          [0.0000, 0.0000, 0.0000, 0.0000, 0.0000, 0.0000, 0.0000, 0.5961,\n",
      "           0.9961, 0.9961, 0.9961, 0.9961, 0.9961, 0.9961, 0.9961, 0.9961,\n",
      "           0.9961, 0.9961, 0.9961, 0.4706, 0.0000, 0.0000, 0.0000, 0.0000,\n",
      "           0.0000, 0.0000, 0.0000, 0.0000],\n",
      "          [0.0000, 0.0000, 0.0000, 0.0000, 0.0000, 0.0000, 0.0000, 0.2627,\n",
      "           0.9961, 0.9961, 0.9961, 0.9961, 0.9961, 0.9961, 0.9961, 0.9961,\n",
      "           0.9961, 0.9961, 0.9961, 0.3176, 0.0000, 0.0000, 0.0000, 0.0000,\n",
      "           0.0000, 0.0000, 0.0000, 0.0000],\n",
      "          [0.0000, 0.0000, 0.0000, 0.0000, 0.0000, 0.0000, 0.0000, 0.0118,\n",
      "           0.2000, 0.8706, 0.9647, 0.9961, 0.9961, 0.9961, 0.9961, 0.9961,\n",
      "           0.9961, 0.9961, 0.9882, 0.2902, 0.0000, 0.0000, 0.0000, 0.0000,\n",
      "           0.0000, 0.0000, 0.0000, 0.0000],\n",
      "          [0.0000, 0.0000, 0.0000, 0.0000, 0.0000, 0.0000, 0.0000, 0.0000,\n",
      "           0.0000, 0.0000, 0.2118, 0.3412, 0.3412, 0.3412, 0.8588, 0.9961,\n",
      "           0.9961, 0.9961, 0.8902, 0.0000, 0.0000, 0.0000, 0.0000, 0.0000,\n",
      "           0.0000, 0.0000, 0.0000, 0.0000],\n",
      "          [0.0000, 0.0000, 0.0000, 0.0000, 0.0000, 0.0000, 0.0000, 0.0000,\n",
      "           0.0000, 0.0000, 0.0000, 0.0000, 0.0000, 0.0000, 0.7882, 0.9961,\n",
      "           0.9961, 0.9961, 0.8902, 0.0000, 0.0000, 0.0000, 0.0000, 0.0000,\n",
      "           0.0000, 0.0000, 0.0000, 0.0000],\n",
      "          [0.0000, 0.0000, 0.0000, 0.0000, 0.0000, 0.0000, 0.0000, 0.0000,\n",
      "           0.0000, 0.0000, 0.0000, 0.0000, 0.0000, 0.0000, 0.5608, 0.9961,\n",
      "           0.9961, 0.9961, 0.7647, 0.1725, 0.0000, 0.0000, 0.0000, 0.0000,\n",
      "           0.0000, 0.0000, 0.0000, 0.0000],\n",
      "          [0.0000, 0.0000, 0.0000, 0.0000, 0.0000, 0.0000, 0.0000, 0.0000,\n",
      "           0.0000, 0.0000, 0.0000, 0.0000, 0.0000, 0.0000, 0.3647, 0.9961,\n",
      "           1.0000, 0.9961, 0.9961, 0.3176, 0.0000, 0.0000, 0.0000, 0.0000,\n",
      "           0.0000, 0.0000, 0.0000, 0.0000],\n",
      "          [0.0000, 0.0000, 0.0000, 0.0000, 0.0000, 0.0000, 0.0000, 0.0000,\n",
      "           0.0000, 0.0000, 0.0000, 0.0000, 0.0000, 0.0000, 0.3647, 0.9961,\n",
      "           0.9961, 0.9961, 0.9961, 0.4902, 0.0000, 0.0000, 0.0000, 0.0000,\n",
      "           0.0000, 0.0000, 0.0000, 0.0000],\n",
      "          [0.0000, 0.0000, 0.0000, 0.0000, 0.0000, 0.0000, 0.0000, 0.0000,\n",
      "           0.0000, 0.0000, 0.0000, 0.0000, 0.0000, 0.0000, 0.3647, 0.9961,\n",
      "           0.9961, 0.9961, 0.9961, 0.3255, 0.0000, 0.0000, 0.0000, 0.0000,\n",
      "           0.0000, 0.0000, 0.0000, 0.0000],\n",
      "          [0.0000, 0.0000, 0.0000, 0.0000, 0.0000, 0.0000, 0.0000, 0.0000,\n",
      "           0.0000, 0.0000, 0.0000, 0.0000, 0.0000, 0.0000, 0.2627, 0.9804,\n",
      "           0.9961, 0.9961, 0.9216, 0.0941, 0.0000, 0.0000, 0.0000, 0.0000,\n",
      "           0.0000, 0.0000, 0.0000, 0.0000],\n",
      "          [0.0000, 0.0000, 0.0000, 0.0000, 0.0000, 0.0000, 0.0000, 0.0000,\n",
      "           0.0000, 0.0000, 0.0000, 0.0000, 0.0000, 0.0000, 0.0000, 0.7569,\n",
      "           0.9961, 0.6510, 0.3294, 0.0000, 0.0000, 0.0000, 0.0000, 0.0000,\n",
      "           0.0000, 0.0000, 0.0000, 0.0000],\n",
      "          [0.0000, 0.0000, 0.0000, 0.0000, 0.0000, 0.0000, 0.0000, 0.0000,\n",
      "           0.0000, 0.0000, 0.0000, 0.0000, 0.0000, 0.0000, 0.0000, 0.0000,\n",
      "           0.0000, 0.0000, 0.0000, 0.0000, 0.0000, 0.0000, 0.0000, 0.0000,\n",
      "           0.0000, 0.0000, 0.0000, 0.0000],\n",
      "          [0.0000, 0.0000, 0.0000, 0.0000, 0.0000, 0.0000, 0.0000, 0.0000,\n",
      "           0.0000, 0.0000, 0.0000, 0.0000, 0.0000, 0.0000, 0.0000, 0.0000,\n",
      "           0.0000, 0.0000, 0.0000, 0.0000, 0.0000, 0.0000, 0.0000, 0.0000,\n",
      "           0.0000, 0.0000, 0.0000, 0.0000],\n",
      "          [0.0000, 0.0000, 0.0000, 0.0000, 0.0000, 0.0000, 0.0000, 0.0000,\n",
      "           0.0000, 0.0000, 0.0000, 0.0000, 0.0000, 0.0000, 0.0000, 0.0000,\n",
      "           0.0000, 0.0000, 0.0000, 0.0000, 0.0000, 0.0000, 0.0000, 0.0000,\n",
      "           0.0000, 0.0000, 0.0000, 0.0000]]]])\n"
     ]
    }
   ],
   "source": [
    "print(data)"
   ]
  },
  {
   "cell_type": "code",
   "execution_count": 44,
   "id": "bdb494df-bf1f-4f77-ae92-a3517e5c5402",
   "metadata": {},
   "outputs": [
    {
     "data": {
      "text/plain": [
       "torch.Size([1, 1, 28, 28])"
      ]
     },
     "execution_count": 44,
     "metadata": {},
     "output_type": "execute_result"
    }
   ],
   "source": [
    "data.shape"
   ]
  },
  {
   "cell_type": "code",
   "execution_count": 55,
   "id": "7a4cb917-c20d-490c-8d0a-70de67768d81",
   "metadata": {},
   "outputs": [
    {
     "name": "stdout",
     "output_type": "stream",
     "text": [
      "<built-in method type of Tensor object at 0x0000015AD762D900>\n"
     ]
    }
   ],
   "source": [
    "print(data.type)"
   ]
  },
  {
   "cell_type": "code",
   "execution_count": 49,
   "id": "e2f64fac-8d01-4059-b8e8-929d7d4d89ca",
   "metadata": {},
   "outputs": [],
   "source": [
    "from PIL import Image\n",
    "import numpy as np"
   ]
  },
  {
   "cell_type": "code",
   "execution_count": 76,
   "id": "40c629e1-2f25-4709-a11b-a1ac55a47c6c",
   "metadata": {},
   "outputs": [],
   "source": [
    "img = Image.open(\"test.png\").convert(\"L\")\n",
    "img = img.resize((28,28))\n",
    "\n",
    "img_arr = torch.tensor(np.array(img) / 255., dtype=torch.float32)\n",
    "img_arr = img_arr.unsqueeze(0).unsqueeze(0).to(device)"
   ]
  },
  {
   "cell_type": "code",
   "execution_count": 77,
   "id": "baa002df-c918-48fc-85b3-b3e58a3037fd",
   "metadata": {},
   "outputs": [
    {
     "name": "stdout",
     "output_type": "stream",
     "text": [
      "tensor([[[[0.0000, 0.0000, 0.0000, 0.0000, 0.0000, 0.0000, 0.0000, 0.0000,\n",
      "           0.0000, 0.0000, 0.0000, 0.0000, 0.0000, 0.0000, 0.0000, 0.0000,\n",
      "           0.0000, 0.0000, 0.0000, 0.0000, 0.0000, 0.0000, 0.0000, 0.0000,\n",
      "           0.0000, 0.0000, 0.0000, 0.0000],\n",
      "          [0.0000, 0.0000, 0.0000, 0.0000, 0.0000, 0.0000, 0.0000, 0.0000,\n",
      "           0.0000, 0.0000, 0.0000, 0.0000, 0.0000, 0.0000, 0.0000, 0.0000,\n",
      "           0.0000, 0.0000, 0.0000, 0.0000, 0.0000, 0.0000, 0.0000, 0.0000,\n",
      "           0.0000, 0.0000, 0.0000, 0.0000],\n",
      "          [0.0000, 0.0000, 0.0000, 0.0000, 0.0000, 0.0000, 0.0000, 0.0000,\n",
      "           0.0000, 0.0000, 0.0000, 0.0000, 0.0000, 0.0000, 0.0000, 0.0000,\n",
      "           0.0000, 0.0000, 0.0000, 0.0000, 0.0000, 0.0000, 0.0000, 0.0000,\n",
      "           0.0000, 0.0000, 0.0000, 0.0000],\n",
      "          [0.0000, 0.0000, 0.0000, 0.0000, 0.0000, 0.0000, 0.0000, 0.0000,\n",
      "           0.0000, 0.0000, 0.0000, 0.0000, 0.0000, 0.3765, 0.8745, 1.0000,\n",
      "           1.0000, 0.8745, 0.3765, 0.0000, 0.0000, 0.0000, 0.0000, 0.0000,\n",
      "           0.0000, 0.0000, 0.0000, 0.0000],\n",
      "          [0.0000, 0.0000, 0.0000, 0.0000, 0.0000, 0.0000, 0.0000, 0.0000,\n",
      "           0.0000, 0.0000, 0.2824, 0.8745, 1.0000, 1.0000, 1.0000, 1.0000,\n",
      "           1.0000, 1.0000, 0.9686, 0.0000, 0.0000, 0.0000, 0.0000, 0.0000,\n",
      "           0.0000, 0.0000, 0.0000, 0.0000],\n",
      "          [0.0000, 0.0000, 0.0000, 0.0000, 0.0000, 0.0000, 0.0000, 0.0000,\n",
      "           0.3765, 0.8745, 1.0000, 1.0000, 1.0000, 1.0000, 1.0000, 1.0000,\n",
      "           1.0000, 1.0000, 0.5922, 0.0000, 0.0000, 0.0000, 0.0000, 0.0000,\n",
      "           0.0000, 0.0000, 0.0000, 0.0000],\n",
      "          [0.0000, 0.0000, 0.0000, 0.0000, 0.0000, 0.0000, 0.2824, 0.8745,\n",
      "           1.0000, 1.0000, 1.0000, 1.0000, 1.0000, 1.0000, 0.6549, 0.0314,\n",
      "           0.0000, 0.0000, 0.0000, 0.0000, 0.0000, 0.0000, 0.0000, 0.0000,\n",
      "           0.0000, 0.0000, 0.0000, 0.0000],\n",
      "          [0.0000, 0.0000, 0.0000, 0.0000, 0.0000, 0.2824, 0.9373, 1.0000,\n",
      "           1.0000, 1.0000, 1.0000, 1.0000, 0.5922, 0.0000, 0.0000, 0.0000,\n",
      "           0.0000, 0.0000, 0.0000, 0.0000, 0.0000, 0.0000, 0.0000, 0.0000,\n",
      "           0.0000, 0.0000, 0.0000, 0.0000],\n",
      "          [0.0000, 0.0000, 0.0000, 0.0000, 0.2824, 0.9373, 1.0000, 1.0000,\n",
      "           1.0000, 0.6549, 0.0314, 0.0000, 0.0000, 0.0000, 0.0000, 0.0000,\n",
      "           0.0000, 0.0000, 0.0000, 0.0000, 0.0000, 0.0000, 0.0000, 0.0000,\n",
      "           0.0000, 0.0000, 0.0000, 0.0000],\n",
      "          [0.0000, 0.0000, 0.0000, 0.0000, 0.9059, 1.0000, 1.0000, 1.0000,\n",
      "           0.5922, 0.0000, 0.0000, 0.0000, 0.0000, 0.0000, 0.0000, 0.0000,\n",
      "           0.0000, 0.0000, 0.0000, 0.0000, 0.0000, 0.0000, 0.0000, 0.0000,\n",
      "           0.0000, 0.0000, 0.0000, 0.0000],\n",
      "          [0.0000, 0.0000, 0.0000, 0.2824, 1.0000, 1.0000, 1.0000, 0.5922,\n",
      "           0.0000, 0.0000, 0.0000, 0.0000, 0.0000, 0.0000, 0.0000, 0.0000,\n",
      "           0.0000, 0.0000, 0.0000, 0.0000, 0.0000, 0.0000, 0.0000, 0.0000,\n",
      "           0.0000, 0.0000, 0.0000, 0.0000],\n",
      "          [0.0000, 0.0000, 0.0000, 0.9059, 1.0000, 1.0000, 1.0000, 0.0000,\n",
      "           0.0000, 0.0000, 0.0000, 0.0000, 0.0000, 0.0000, 0.0000, 0.0000,\n",
      "           0.0000, 0.0000, 0.0000, 0.0000, 0.0000, 0.0000, 0.0000, 0.0000,\n",
      "           0.0000, 0.0000, 0.0000, 0.0000],\n",
      "          [0.0000, 0.0000, 0.0000, 1.0000, 1.0000, 1.0000, 1.0000, 1.0000,\n",
      "           0.8745, 0.3765, 0.0000, 0.0000, 0.0000, 0.0000, 0.0000, 0.0000,\n",
      "           0.0000, 0.0000, 0.0000, 0.0000, 0.0000, 0.0000, 0.0000, 0.0000,\n",
      "           0.0000, 0.0000, 0.0000, 0.0000],\n",
      "          [0.0000, 0.0000, 0.4078, 1.0000, 1.0000, 1.0000, 1.0000, 1.0000,\n",
      "           1.0000, 1.0000, 1.0000, 0.8745, 0.3765, 0.0000, 0.0000, 0.0000,\n",
      "           0.0000, 0.0000, 0.0000, 0.0000, 0.0000, 0.0000, 0.0000, 0.0000,\n",
      "           0.0000, 0.0000, 0.0000, 0.0000],\n",
      "          [0.0000, 0.0000, 0.9059, 1.0000, 1.0000, 1.0000, 1.0000, 1.0000,\n",
      "           1.0000, 1.0000, 1.0000, 1.0000, 1.0000, 1.0000, 0.8745, 0.3765,\n",
      "           0.0000, 0.0000, 0.0000, 0.0000, 0.0000, 0.0000, 0.0000, 0.0000,\n",
      "           0.0000, 0.0000, 0.0000, 0.0000],\n",
      "          [0.0000, 0.0000, 1.0000, 1.0000, 1.0000, 0.0314, 0.0000, 0.4706,\n",
      "           1.0000, 1.0000, 1.0000, 1.0000, 1.0000, 1.0000, 1.0000, 0.9686,\n",
      "           0.3765, 0.0000, 0.0000, 0.0000, 0.0000, 0.0000, 0.0000, 0.0000,\n",
      "           0.0000, 0.0000, 0.0000, 0.0000],\n",
      "          [0.0000, 0.0000, 1.0000, 1.0000, 1.0000, 0.0000, 0.0000, 0.0000,\n",
      "           0.0000, 0.0000, 0.4706, 1.0000, 1.0000, 1.0000, 1.0000, 1.0000,\n",
      "           1.0000, 0.8745, 0.3765, 0.0000, 0.0000, 0.0000, 0.0000, 0.0000,\n",
      "           0.0000, 0.0000, 0.0000, 0.0000],\n",
      "          [0.0000, 0.0000, 1.0000, 1.0000, 1.0000, 0.0000, 0.0000, 0.0000,\n",
      "           0.0000, 0.0000, 0.0000, 0.0000, 0.0000, 0.4706, 1.0000, 1.0000,\n",
      "           1.0000, 1.0000, 1.0000, 0.8745, 0.3765, 0.0000, 0.0000, 0.0000,\n",
      "           0.0000, 0.0000, 0.0000, 0.0000],\n",
      "          [0.0000, 0.0000, 1.0000, 1.0000, 1.0000, 0.0000, 0.0000, 0.0000,\n",
      "           0.0000, 0.0000, 0.0000, 0.0000, 0.0000, 0.0000, 0.4706, 1.0000,\n",
      "           1.0000, 1.0000, 1.0000, 1.0000, 0.9686, 0.0000, 0.0000, 0.0000,\n",
      "           0.0000, 0.0000, 0.0000, 0.0000],\n",
      "          [0.0000, 0.0000, 1.0000, 1.0000, 1.0000, 0.3765, 0.0000, 0.0000,\n",
      "           0.0000, 0.0000, 0.0000, 0.0000, 0.0000, 0.0000, 0.0000, 0.0000,\n",
      "           0.4706, 1.0000, 1.0000, 1.0000, 1.0000, 0.0000, 0.0000, 0.0000,\n",
      "           0.0000, 0.0000, 0.0000, 0.0000],\n",
      "          [0.0000, 0.0000, 0.9686, 1.0000, 1.0000, 0.9686, 0.0000, 0.0000,\n",
      "           0.0000, 0.0000, 0.0000, 0.0000, 0.0000, 0.0000, 0.0000, 0.0000,\n",
      "           0.0000, 0.0000, 1.0000, 1.0000, 1.0000, 0.0000, 0.0000, 0.0000,\n",
      "           0.0000, 0.0000, 0.0000, 0.0000],\n",
      "          [0.0000, 0.0000, 0.4706, 1.0000, 1.0000, 1.0000, 0.4078, 0.0000,\n",
      "           0.0000, 0.0000, 0.0000, 0.0000, 0.0000, 0.0000, 0.0000, 0.0000,\n",
      "           0.0000, 0.0000, 1.0000, 1.0000, 1.0000, 0.0000, 0.0000, 0.0000,\n",
      "           0.0000, 0.0000, 0.0000, 0.0000],\n",
      "          [0.0000, 0.0000, 0.0000, 0.9686, 1.0000, 1.0000, 1.0000, 0.8745,\n",
      "           0.3765, 0.0000, 0.0000, 0.0000, 0.0000, 0.0000, 0.0000, 0.0000,\n",
      "           0.0000, 0.3765, 1.0000, 1.0000, 1.0000, 0.0000, 0.0000, 0.0000,\n",
      "           0.0000, 0.0000, 0.0000, 0.0000],\n",
      "          [0.0000, 0.0000, 0.0000, 0.4706, 1.0000, 1.0000, 1.0000, 1.0000,\n",
      "           1.0000, 1.0000, 1.0000, 1.0000, 1.0000, 1.0000, 1.0000, 1.0000,\n",
      "           1.0000, 1.0000, 1.0000, 1.0000, 1.0000, 0.0000, 0.0000, 0.0000,\n",
      "           0.0000, 0.0000, 0.0000, 0.0000],\n",
      "          [0.0000, 0.0000, 0.0000, 0.0000, 0.0314, 0.6235, 1.0000, 1.0000,\n",
      "           1.0000, 1.0000, 1.0000, 1.0000, 1.0000, 1.0000, 1.0000, 1.0000,\n",
      "           1.0000, 1.0000, 1.0000, 1.0000, 0.5922, 0.0000, 0.0000, 0.0000,\n",
      "           0.0000, 0.0000, 0.0000, 0.0000],\n",
      "          [0.0000, 0.0000, 0.0000, 0.0000, 0.0000, 0.0000, 0.4706, 1.0000,\n",
      "           1.0000, 1.0000, 1.0000, 1.0000, 1.0000, 1.0000, 1.0000, 1.0000,\n",
      "           1.0000, 1.0000, 0.6549, 0.0314, 0.0000, 0.0000, 0.0000, 0.0000,\n",
      "           0.0000, 0.0000, 0.0000, 0.0000],\n",
      "          [0.0000, 0.0000, 0.0000, 0.0000, 0.0000, 0.0000, 0.0000, 0.0000,\n",
      "           0.0000, 0.0000, 0.0000, 0.0000, 0.0000, 0.0000, 0.0000, 0.0000,\n",
      "           0.0000, 0.0000, 0.0000, 0.0000, 0.0000, 0.0000, 0.0000, 0.0000,\n",
      "           0.0000, 0.0000, 0.0000, 0.0000],\n",
      "          [0.0000, 0.0000, 0.0000, 0.0000, 0.0000, 0.0000, 0.0000, 0.0000,\n",
      "           0.0000, 0.0000, 0.0000, 0.0000, 0.0000, 0.0000, 0.0000, 0.0000,\n",
      "           0.0000, 0.0000, 0.0000, 0.0000, 0.0000, 0.0000, 0.0000, 0.0000,\n",
      "           0.0000, 0.0000, 0.0000, 0.0000]]]])\n"
     ]
    }
   ],
   "source": [
    "print(img_arr)"
   ]
  },
  {
   "cell_type": "code",
   "execution_count": 78,
   "id": "3292edae-f281-4314-ac8a-8012a97b2460",
   "metadata": {},
   "outputs": [
    {
     "data": {
      "text/plain": [
       "torch.Size([1, 1, 28, 28])"
      ]
     },
     "execution_count": 78,
     "metadata": {},
     "output_type": "execute_result"
    }
   ],
   "source": [
    "img_arr.shape"
   ]
  },
  {
   "cell_type": "code",
   "execution_count": 79,
   "id": "54f56e37-d8b4-420f-a286-b6937c0579f7",
   "metadata": {},
   "outputs": [
    {
     "name": "stdout",
     "output_type": "stream",
     "text": [
      "Prediction: 5\n"
     ]
    },
    {
     "data": {
      "image/png": "[encoded data removed]",
      "text/plain": [
       "<Figure size 640x480 with 1 Axes>"
      ]
     },
     "metadata": {},
     "output_type": "display_data"
    }
   ],
   "source": [
    "model.eval()\n",
    "\n",
    "with torch.no_grad():\n",
    "    output = model(img_arr)\n",
    "    pred = output.argmax(dim=1, keepdim=True).item()\n",
    "\n",
    "    print(f\"Prediction: {pred}\")\n",
    "\n",
    "    img_arr = img_arr.squeeze(0).squeeze(0).cpu().numpy()\n",
    "    plt.imshow(img_arr, cmap=\"gray\")\n",
    "    plt.show()"
   ]
  },
  {
   "cell_type": "code",
   "execution_count": null,
   "id": "071234ed-d73e-41a7-aebd-6a488580eda5",
   "metadata": {},
   "outputs": [],
   "source": []
  }
 ],
 "metadata": {
  "kernelspec": {
   "display_name": "HandwrittenDigitRecognitionKernel",
   "language": "python",
   "name": ".venv"
  },
  "language_info": {
   "codemirror_mode": {
    "name": "ipython",
    "version": 3
   },
   "file_extension": ".py",
   "mimetype": "text/x-python",
   "name": "python",
   "nbconvert_exporter": "python",
   "pygments_lexer": "ipython3",
   "version": "3.12.1"
  }
 },
 "nbformat": 4,
 "nbformat_minor": 5
}
